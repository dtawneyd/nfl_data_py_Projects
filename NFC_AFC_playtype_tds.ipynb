{
  "nbformat": 4,
  "nbformat_minor": 0,
  "metadata": {
    "colab": {
      "provenance": [],
      "authorship_tag": "ABX9TyNteBXBJ3zUenmcPqw+yj7+",
      "include_colab_link": true
    },
    "kernelspec": {
      "name": "python3",
      "display_name": "Python 3"
    },
    "language_info": {
      "name": "python"
    }
  },
  "cells": [
    {
      "cell_type": "markdown",
      "metadata": {
        "id": "view-in-github",
        "colab_type": "text"
      },
      "source": [
        "<a href=\"https://colab.research.google.com/github/dtawneyd/nfl_data_py_Projects/blob/main/NFC_AFC_playtype_tds.ipynb\" target=\"_parent\"><img src=\"https://colab.research.google.com/assets/colab-badge.svg\" alt=\"Open In Colab\"/></a>"
      ]
    },
    {
      "cell_type": "markdown",
      "source": [
        "# 2022-2023 NFL season play-type patterns by team."
      ],
      "metadata": {
        "id": "M6l_vm10Eerp"
      }
    },
    {
      "cell_type": "markdown",
      "source": [
        "Install packages."
      ],
      "metadata": {
        "id": "tQXC3oDkDsT4"
      }
    },
    {
      "cell_type": "code",
      "source": [
        "!pip install nfl_data_py\n",
        "!pip install pandas\n",
        "!pip install plotly"
      ],
      "metadata": {
        "id": "Fg92QopR3Xal"
      },
      "execution_count": null,
      "outputs": []
    },
    {
      "cell_type": "markdown",
      "source": [
        "Import packages."
      ],
      "metadata": {
        "id": "arXWmOqQD1Mk"
      }
    },
    {
      "cell_type": "code",
      "execution_count": 116,
      "metadata": {
        "id": "7KN7qVVWLrkv"
      },
      "outputs": [],
      "source": [
        "import nfl_data_py as nfl\n",
        "import pandas as pd\n",
        "import plotly.express as px"
      ]
    },
    {
      "cell_type": "markdown",
      "source": [
        "Importing 2022-2023 play-by-play and team description data from nfl_data_py package."
      ],
      "metadata": {
        "id": "3Nd3fxlvD42l"
      }
    },
    {
      "cell_type": "code",
      "source": [
        "pbp = nfl.import_pbp_data([2022])\n",
        "team = nfl.import_team_desc()"
      ],
      "metadata": {
        "id": "4O-uNQK0LzPO"
      },
      "execution_count": null,
      "outputs": []
    },
    {
      "cell_type": "markdown",
      "source": [
        "Cleaning the dataframes to include relevant touchdown and team data, then merging the play-by-play data and team descriptions on the posteam and team abbreviation columns."
      ],
      "metadata": {
        "id": "QxOoAFRA6GK8"
      }
    },
    {
      "cell_type": "code",
      "source": [
        "team = team[['team_abbr','team_conf']]\n",
        "pbp = pbp[['posteam','week','yardline_100','yrdln','down','ydstogo','play_type','pass_location',\n",
        "           'run_location','yards_gained','rusher_player_name','receiver_player_name',\n",
        "           'touchdown','td_prob']]\n",
        "pbp = pd.merge(pbp, team, left_on = 'posteam', right_on= 'team_abbr')"
      ],
      "metadata": {
        "id": "LIKkr4rYl5wt"
      },
      "execution_count": 118,
      "outputs": []
    },
    {
      "cell_type": "markdown",
      "source": [
        "Writing a function that filters the data to show every pass and run touchdown for either the NFC conference teams or the AFC conference teams."
      ],
      "metadata": {
        "id": "NdXHohYXw2AP"
      }
    },
    {
      "cell_type": "code",
      "source": [
        "def nfl_conf(conf_name):\n",
        "  return pbp.query(f'touchdown == 1 & team_conf == \"{conf_name}\"').query('play_type == \"pass\" | play_type == \"run\"')\n",
        "\n",
        "nfc_td_plays = nfl_conf('NFC')\n",
        "afc_td_plays = nfl_conf('AFC')"
      ],
      "metadata": {
        "id": "XfDjQCSdRx5l"
      },
      "execution_count": 119,
      "outputs": []
    },
    {
      "cell_type": "markdown",
      "source": [
        "Using the groupby method in Pandas to organize data to allow for graphing the number of touchdowns for each play type"
      ],
      "metadata": {
        "id": "caIOcYlCxC8H"
      }
    },
    {
      "cell_type": "code",
      "source": [
        "nfc_td_plays = nfc_td_plays.groupby(['posteam','play_type']).agg({'touchdown': 'sum'})\n",
        "nfc_td_plays.reset_index(inplace=True)\n",
        "\n",
        "afc_td_plays = afc_td_plays.groupby(['posteam','play_type']).agg({'touchdown': 'sum'})\n",
        "afc_td_plays.reset_index(inplace=True)\n",
        "afc_td_plays"
      ],
      "metadata": {
        "id": "F8flAgIfxQ-A"
      },
      "execution_count": null,
      "outputs": []
    },
    {
      "cell_type": "markdown",
      "source": [
        "Plotting a line chart to show the touchdown dispersion between a run and a pass for NFC teams."
      ],
      "metadata": {
        "id": "xGYREeSFxS4i"
      }
    },
    {
      "cell_type": "code",
      "source": [
        "nfc_fig = px.line(nfc_td_plays, x= 'play_type', y='touchdown', color = 'posteam',\n",
        "              labels = {'play_type': 'Play Type', 'touchdown': 'Touchdowns', 'posteam': 'Team'}, title = '2022-2023 NFC Offensive Touchdowns by Play Type',\n",
        "              color_discrete_sequence= ['#97233F','#A71930','#0085CA','#0B162A','#002244','#0076B6','#203731','#003594','#4F2683','#D3BC8D','#0B2265',\n",
        "                                        '#004C54','#002244','#AA0000','#A71930','#5A1414'])\n",
        "\n",
        "nfc_fig.show()"
      ],
      "metadata": {
        "colab": {
          "base_uri": "https://localhost:8080/",
          "height": 542
        },
        "id": "9JDcrsuQAckh",
        "outputId": "c10c934e-660d-4cd6-a79b-4b154a262f12"
      },
      "execution_count": 123,
      "outputs": [
        {
          "output_type": "display_data",
          "data": {
            "text/html": [
              "<html>\n",
              "<head><meta charset=\"utf-8\" /></head>\n",
              "<body>\n",
              "    <div>            <script src=\"https://cdnjs.cloudflare.com/ajax/libs/mathjax/2.7.5/MathJax.js?config=TeX-AMS-MML_SVG\"></script><script type=\"text/javascript\">if (window.MathJax) {MathJax.Hub.Config({SVG: {font: \"STIX-Web\"}});}</script>                <script type=\"text/javascript\">window.PlotlyConfig = {MathJaxConfig: 'local'};</script>\n",
              "        <script src=\"https://cdn.plot.ly/plotly-2.8.3.min.js\"></script>                <div id=\"11af4b77-6dd5-42cc-bf67-2f6a640c00aa\" class=\"plotly-graph-div\" style=\"height:525px; width:100%;\"></div>            <script type=\"text/javascript\">                                    window.PLOTLYENV=window.PLOTLYENV || {};                                    if (document.getElementById(\"11af4b77-6dd5-42cc-bf67-2f6a640c00aa\")) {                    Plotly.newPlot(                        \"11af4b77-6dd5-42cc-bf67-2f6a640c00aa\",                        [{\"hovertemplate\":\"Team=ARI<br>Play Type=%{x}<br>Touchdowns=%{y}<extra></extra>\",\"legendgroup\":\"ARI\",\"line\":{\"color\":\"#97233F\",\"dash\":\"solid\"},\"marker\":{\"symbol\":\"circle\"},\"mode\":\"lines\",\"name\":\"ARI\",\"orientation\":\"v\",\"showlegend\":true,\"x\":[\"pass\",\"run\"],\"xaxis\":\"x\",\"y\":[19.0,15.0],\"yaxis\":\"y\",\"type\":\"scatter\"},{\"hovertemplate\":\"Team=ATL<br>Play Type=%{x}<br>Touchdowns=%{y}<extra></extra>\",\"legendgroup\":\"ATL\",\"line\":{\"color\":\"#A71930\",\"dash\":\"solid\"},\"marker\":{\"symbol\":\"circle\"},\"mode\":\"lines\",\"name\":\"ATL\",\"orientation\":\"v\",\"showlegend\":true,\"x\":[\"pass\",\"run\"],\"xaxis\":\"x\",\"y\":[17.0,17.0],\"yaxis\":\"y\",\"type\":\"scatter\"},{\"hovertemplate\":\"Team=CAR<br>Play Type=%{x}<br>Touchdowns=%{y}<extra></extra>\",\"legendgroup\":\"CAR\",\"line\":{\"color\":\"#0085CA\",\"dash\":\"solid\"},\"marker\":{\"symbol\":\"circle\"},\"mode\":\"lines\",\"name\":\"CAR\",\"orientation\":\"v\",\"showlegend\":true,\"x\":[\"pass\",\"run\"],\"xaxis\":\"x\",\"y\":[18.0,17.0],\"yaxis\":\"y\",\"type\":\"scatter\"},{\"hovertemplate\":\"Team=CHI<br>Play Type=%{x}<br>Touchdowns=%{y}<extra></extra>\",\"legendgroup\":\"CHI\",\"line\":{\"color\":\"#0B162A\",\"dash\":\"solid\"},\"marker\":{\"symbol\":\"circle\"},\"mode\":\"lines\",\"name\":\"CHI\",\"orientation\":\"v\",\"showlegend\":true,\"x\":[\"pass\",\"run\"],\"xaxis\":\"x\",\"y\":[21.0,18.0],\"yaxis\":\"y\",\"type\":\"scatter\"},{\"hovertemplate\":\"Team=DAL<br>Play Type=%{x}<br>Touchdowns=%{y}<extra></extra>\",\"legendgroup\":\"DAL\",\"line\":{\"color\":\"#002244\",\"dash\":\"solid\"},\"marker\":{\"symbol\":\"circle\"},\"mode\":\"lines\",\"name\":\"DAL\",\"orientation\":\"v\",\"showlegend\":true,\"x\":[\"pass\",\"run\"],\"xaxis\":\"x\",\"y\":[36.0,25.0],\"yaxis\":\"y\",\"type\":\"scatter\"},{\"hovertemplate\":\"Team=DET<br>Play Type=%{x}<br>Touchdowns=%{y}<extra></extra>\",\"legendgroup\":\"DET\",\"line\":{\"color\":\"#0076B6\",\"dash\":\"solid\"},\"marker\":{\"symbol\":\"circle\"},\"mode\":\"lines\",\"name\":\"DET\",\"orientation\":\"v\",\"showlegend\":true,\"x\":[\"pass\",\"run\"],\"xaxis\":\"x\",\"y\":[32.0,23.0],\"yaxis\":\"y\",\"type\":\"scatter\"},{\"hovertemplate\":\"Team=GB<br>Play Type=%{x}<br>Touchdowns=%{y}<extra></extra>\",\"legendgroup\":\"GB\",\"line\":{\"color\":\"#203731\",\"dash\":\"solid\"},\"marker\":{\"symbol\":\"circle\"},\"mode\":\"lines\",\"name\":\"GB\",\"orientation\":\"v\",\"showlegend\":true,\"x\":[\"pass\",\"run\"],\"xaxis\":\"x\",\"y\":[28.0,12.0],\"yaxis\":\"y\",\"type\":\"scatter\"},{\"hovertemplate\":\"Team=LA<br>Play Type=%{x}<br>Touchdowns=%{y}<extra></extra>\",\"legendgroup\":\"LA\",\"line\":{\"color\":\"#003594\",\"dash\":\"solid\"},\"marker\":{\"symbol\":\"circle\"},\"mode\":\"lines\",\"name\":\"LA\",\"orientation\":\"v\",\"showlegend\":true,\"x\":[\"pass\",\"run\"],\"xaxis\":\"x\",\"y\":[19.0,15.0],\"yaxis\":\"y\",\"type\":\"scatter\"},{\"hovertemplate\":\"Team=MIN<br>Play Type=%{x}<br>Touchdowns=%{y}<extra></extra>\",\"legendgroup\":\"MIN\",\"line\":{\"color\":\"#4F2683\",\"dash\":\"solid\"},\"marker\":{\"symbol\":\"circle\"},\"mode\":\"lines\",\"name\":\"MIN\",\"orientation\":\"v\",\"showlegend\":true,\"x\":[\"pass\",\"run\"],\"xaxis\":\"x\",\"y\":[34.0,19.0],\"yaxis\":\"y\",\"type\":\"scatter\"},{\"hovertemplate\":\"Team=NO<br>Play Type=%{x}<br>Touchdowns=%{y}<extra></extra>\",\"legendgroup\":\"NO\",\"line\":{\"color\":\"#D3BC8D\",\"dash\":\"solid\"},\"marker\":{\"symbol\":\"circle\"},\"mode\":\"lines\",\"name\":\"NO\",\"orientation\":\"v\",\"showlegend\":true,\"x\":[\"pass\",\"run\"],\"xaxis\":\"x\",\"y\":[27.0,13.0],\"yaxis\":\"y\",\"type\":\"scatter\"},{\"hovertemplate\":\"Team=NYG<br>Play Type=%{x}<br>Touchdowns=%{y}<extra></extra>\",\"legendgroup\":\"NYG\",\"line\":{\"color\":\"#0B2265\",\"dash\":\"solid\"},\"marker\":{\"symbol\":\"circle\"},\"mode\":\"lines\",\"name\":\"NYG\",\"orientation\":\"v\",\"showlegend\":true,\"x\":[\"pass\",\"run\"],\"xaxis\":\"x\",\"y\":[19.0,24.0],\"yaxis\":\"y\",\"type\":\"scatter\"},{\"hovertemplate\":\"Team=PHI<br>Play Type=%{x}<br>Touchdowns=%{y}<extra></extra>\",\"legendgroup\":\"PHI\",\"line\":{\"color\":\"#004C54\",\"dash\":\"solid\"},\"marker\":{\"symbol\":\"circle\"},\"mode\":\"lines\",\"name\":\"PHI\",\"orientation\":\"v\",\"showlegend\":true,\"x\":[\"pass\",\"run\"],\"xaxis\":\"x\",\"y\":[31.0,43.0],\"yaxis\":\"y\",\"type\":\"scatter\"},{\"hovertemplate\":\"Team=SEA<br>Play Type=%{x}<br>Touchdowns=%{y}<extra></extra>\",\"legendgroup\":\"SEA\",\"line\":{\"color\":\"#002244\",\"dash\":\"solid\"},\"marker\":{\"symbol\":\"circle\"},\"mode\":\"lines\",\"name\":\"SEA\",\"orientation\":\"v\",\"showlegend\":true,\"x\":[\"pass\",\"run\"],\"xaxis\":\"x\",\"y\":[33.0,14.0],\"yaxis\":\"y\",\"type\":\"scatter\"},{\"hovertemplate\":\"Team=SF<br>Play Type=%{x}<br>Touchdowns=%{y}<extra></extra>\",\"legendgroup\":\"SF\",\"line\":{\"color\":\"#AA0000\",\"dash\":\"solid\"},\"marker\":{\"symbol\":\"circle\"},\"mode\":\"lines\",\"name\":\"SF\",\"orientation\":\"v\",\"showlegend\":true,\"x\":[\"pass\",\"run\"],\"xaxis\":\"x\",\"y\":[33.0,24.0],\"yaxis\":\"y\",\"type\":\"scatter\"},{\"hovertemplate\":\"Team=TB<br>Play Type=%{x}<br>Touchdowns=%{y}<extra></extra>\",\"legendgroup\":\"TB\",\"line\":{\"color\":\"#A71930\",\"dash\":\"solid\"},\"marker\":{\"symbol\":\"circle\"},\"mode\":\"lines\",\"name\":\"TB\",\"orientation\":\"v\",\"showlegend\":true,\"x\":[\"pass\",\"run\"],\"xaxis\":\"x\",\"y\":[28.0,5.0],\"yaxis\":\"y\",\"type\":\"scatter\"},{\"hovertemplate\":\"Team=WAS<br>Play Type=%{x}<br>Touchdowns=%{y}<extra></extra>\",\"legendgroup\":\"WAS\",\"line\":{\"color\":\"#5A1414\",\"dash\":\"solid\"},\"marker\":{\"symbol\":\"circle\"},\"mode\":\"lines\",\"name\":\"WAS\",\"orientation\":\"v\",\"showlegend\":true,\"x\":[\"pass\",\"run\"],\"xaxis\":\"x\",\"y\":[26.0,9.0],\"yaxis\":\"y\",\"type\":\"scatter\"}],                        {\"template\":{\"data\":{\"bar\":[{\"error_x\":{\"color\":\"#2a3f5f\"},\"error_y\":{\"color\":\"#2a3f5f\"},\"marker\":{\"line\":{\"color\":\"#E5ECF6\",\"width\":0.5},\"pattern\":{\"fillmode\":\"overlay\",\"size\":10,\"solidity\":0.2}},\"type\":\"bar\"}],\"barpolar\":[{\"marker\":{\"line\":{\"color\":\"#E5ECF6\",\"width\":0.5},\"pattern\":{\"fillmode\":\"overlay\",\"size\":10,\"solidity\":0.2}},\"type\":\"barpolar\"}],\"carpet\":[{\"aaxis\":{\"endlinecolor\":\"#2a3f5f\",\"gridcolor\":\"white\",\"linecolor\":\"white\",\"minorgridcolor\":\"white\",\"startlinecolor\":\"#2a3f5f\"},\"baxis\":{\"endlinecolor\":\"#2a3f5f\",\"gridcolor\":\"white\",\"linecolor\":\"white\",\"minorgridcolor\":\"white\",\"startlinecolor\":\"#2a3f5f\"},\"type\":\"carpet\"}],\"choropleth\":[{\"colorbar\":{\"outlinewidth\":0,\"ticks\":\"\"},\"type\":\"choropleth\"}],\"contour\":[{\"colorbar\":{\"outlinewidth\":0,\"ticks\":\"\"},\"colorscale\":[[0.0,\"#0d0887\"],[0.1111111111111111,\"#46039f\"],[0.2222222222222222,\"#7201a8\"],[0.3333333333333333,\"#9c179e\"],[0.4444444444444444,\"#bd3786\"],[0.5555555555555556,\"#d8576b\"],[0.6666666666666666,\"#ed7953\"],[0.7777777777777778,\"#fb9f3a\"],[0.8888888888888888,\"#fdca26\"],[1.0,\"#f0f921\"]],\"type\":\"contour\"}],\"contourcarpet\":[{\"colorbar\":{\"outlinewidth\":0,\"ticks\":\"\"},\"type\":\"contourcarpet\"}],\"heatmap\":[{\"colorbar\":{\"outlinewidth\":0,\"ticks\":\"\"},\"colorscale\":[[0.0,\"#0d0887\"],[0.1111111111111111,\"#46039f\"],[0.2222222222222222,\"#7201a8\"],[0.3333333333333333,\"#9c179e\"],[0.4444444444444444,\"#bd3786\"],[0.5555555555555556,\"#d8576b\"],[0.6666666666666666,\"#ed7953\"],[0.7777777777777778,\"#fb9f3a\"],[0.8888888888888888,\"#fdca26\"],[1.0,\"#f0f921\"]],\"type\":\"heatmap\"}],\"heatmapgl\":[{\"colorbar\":{\"outlinewidth\":0,\"ticks\":\"\"},\"colorscale\":[[0.0,\"#0d0887\"],[0.1111111111111111,\"#46039f\"],[0.2222222222222222,\"#7201a8\"],[0.3333333333333333,\"#9c179e\"],[0.4444444444444444,\"#bd3786\"],[0.5555555555555556,\"#d8576b\"],[0.6666666666666666,\"#ed7953\"],[0.7777777777777778,\"#fb9f3a\"],[0.8888888888888888,\"#fdca26\"],[1.0,\"#f0f921\"]],\"type\":\"heatmapgl\"}],\"histogram\":[{\"marker\":{\"pattern\":{\"fillmode\":\"overlay\",\"size\":10,\"solidity\":0.2}},\"type\":\"histogram\"}],\"histogram2d\":[{\"colorbar\":{\"outlinewidth\":0,\"ticks\":\"\"},\"colorscale\":[[0.0,\"#0d0887\"],[0.1111111111111111,\"#46039f\"],[0.2222222222222222,\"#7201a8\"],[0.3333333333333333,\"#9c179e\"],[0.4444444444444444,\"#bd3786\"],[0.5555555555555556,\"#d8576b\"],[0.6666666666666666,\"#ed7953\"],[0.7777777777777778,\"#fb9f3a\"],[0.8888888888888888,\"#fdca26\"],[1.0,\"#f0f921\"]],\"type\":\"histogram2d\"}],\"histogram2dcontour\":[{\"colorbar\":{\"outlinewidth\":0,\"ticks\":\"\"},\"colorscale\":[[0.0,\"#0d0887\"],[0.1111111111111111,\"#46039f\"],[0.2222222222222222,\"#7201a8\"],[0.3333333333333333,\"#9c179e\"],[0.4444444444444444,\"#bd3786\"],[0.5555555555555556,\"#d8576b\"],[0.6666666666666666,\"#ed7953\"],[0.7777777777777778,\"#fb9f3a\"],[0.8888888888888888,\"#fdca26\"],[1.0,\"#f0f921\"]],\"type\":\"histogram2dcontour\"}],\"mesh3d\":[{\"colorbar\":{\"outlinewidth\":0,\"ticks\":\"\"},\"type\":\"mesh3d\"}],\"parcoords\":[{\"line\":{\"colorbar\":{\"outlinewidth\":0,\"ticks\":\"\"}},\"type\":\"parcoords\"}],\"pie\":[{\"automargin\":true,\"type\":\"pie\"}],\"scatter\":[{\"marker\":{\"colorbar\":{\"outlinewidth\":0,\"ticks\":\"\"}},\"type\":\"scatter\"}],\"scatter3d\":[{\"line\":{\"colorbar\":{\"outlinewidth\":0,\"ticks\":\"\"}},\"marker\":{\"colorbar\":{\"outlinewidth\":0,\"ticks\":\"\"}},\"type\":\"scatter3d\"}],\"scattercarpet\":[{\"marker\":{\"colorbar\":{\"outlinewidth\":0,\"ticks\":\"\"}},\"type\":\"scattercarpet\"}],\"scattergeo\":[{\"marker\":{\"colorbar\":{\"outlinewidth\":0,\"ticks\":\"\"}},\"type\":\"scattergeo\"}],\"scattergl\":[{\"marker\":{\"colorbar\":{\"outlinewidth\":0,\"ticks\":\"\"}},\"type\":\"scattergl\"}],\"scattermapbox\":[{\"marker\":{\"colorbar\":{\"outlinewidth\":0,\"ticks\":\"\"}},\"type\":\"scattermapbox\"}],\"scatterpolar\":[{\"marker\":{\"colorbar\":{\"outlinewidth\":0,\"ticks\":\"\"}},\"type\":\"scatterpolar\"}],\"scatterpolargl\":[{\"marker\":{\"colorbar\":{\"outlinewidth\":0,\"ticks\":\"\"}},\"type\":\"scatterpolargl\"}],\"scatterternary\":[{\"marker\":{\"colorbar\":{\"outlinewidth\":0,\"ticks\":\"\"}},\"type\":\"scatterternary\"}],\"surface\":[{\"colorbar\":{\"outlinewidth\":0,\"ticks\":\"\"},\"colorscale\":[[0.0,\"#0d0887\"],[0.1111111111111111,\"#46039f\"],[0.2222222222222222,\"#7201a8\"],[0.3333333333333333,\"#9c179e\"],[0.4444444444444444,\"#bd3786\"],[0.5555555555555556,\"#d8576b\"],[0.6666666666666666,\"#ed7953\"],[0.7777777777777778,\"#fb9f3a\"],[0.8888888888888888,\"#fdca26\"],[1.0,\"#f0f921\"]],\"type\":\"surface\"}],\"table\":[{\"cells\":{\"fill\":{\"color\":\"#EBF0F8\"},\"line\":{\"color\":\"white\"}},\"header\":{\"fill\":{\"color\":\"#C8D4E3\"},\"line\":{\"color\":\"white\"}},\"type\":\"table\"}]},\"layout\":{\"annotationdefaults\":{\"arrowcolor\":\"#2a3f5f\",\"arrowhead\":0,\"arrowwidth\":1},\"autotypenumbers\":\"strict\",\"coloraxis\":{\"colorbar\":{\"outlinewidth\":0,\"ticks\":\"\"}},\"colorscale\":{\"diverging\":[[0,\"#8e0152\"],[0.1,\"#c51b7d\"],[0.2,\"#de77ae\"],[0.3,\"#f1b6da\"],[0.4,\"#fde0ef\"],[0.5,\"#f7f7f7\"],[0.6,\"#e6f5d0\"],[0.7,\"#b8e186\"],[0.8,\"#7fbc41\"],[0.9,\"#4d9221\"],[1,\"#276419\"]],\"sequential\":[[0.0,\"#0d0887\"],[0.1111111111111111,\"#46039f\"],[0.2222222222222222,\"#7201a8\"],[0.3333333333333333,\"#9c179e\"],[0.4444444444444444,\"#bd3786\"],[0.5555555555555556,\"#d8576b\"],[0.6666666666666666,\"#ed7953\"],[0.7777777777777778,\"#fb9f3a\"],[0.8888888888888888,\"#fdca26\"],[1.0,\"#f0f921\"]],\"sequentialminus\":[[0.0,\"#0d0887\"],[0.1111111111111111,\"#46039f\"],[0.2222222222222222,\"#7201a8\"],[0.3333333333333333,\"#9c179e\"],[0.4444444444444444,\"#bd3786\"],[0.5555555555555556,\"#d8576b\"],[0.6666666666666666,\"#ed7953\"],[0.7777777777777778,\"#fb9f3a\"],[0.8888888888888888,\"#fdca26\"],[1.0,\"#f0f921\"]]},\"colorway\":[\"#636efa\",\"#EF553B\",\"#00cc96\",\"#ab63fa\",\"#FFA15A\",\"#19d3f3\",\"#FF6692\",\"#B6E880\",\"#FF97FF\",\"#FECB52\"],\"font\":{\"color\":\"#2a3f5f\"},\"geo\":{\"bgcolor\":\"white\",\"lakecolor\":\"white\",\"landcolor\":\"#E5ECF6\",\"showlakes\":true,\"showland\":true,\"subunitcolor\":\"white\"},\"hoverlabel\":{\"align\":\"left\"},\"hovermode\":\"closest\",\"mapbox\":{\"style\":\"light\"},\"paper_bgcolor\":\"white\",\"plot_bgcolor\":\"#E5ECF6\",\"polar\":{\"angularaxis\":{\"gridcolor\":\"white\",\"linecolor\":\"white\",\"ticks\":\"\"},\"bgcolor\":\"#E5ECF6\",\"radialaxis\":{\"gridcolor\":\"white\",\"linecolor\":\"white\",\"ticks\":\"\"}},\"scene\":{\"xaxis\":{\"backgroundcolor\":\"#E5ECF6\",\"gridcolor\":\"white\",\"gridwidth\":2,\"linecolor\":\"white\",\"showbackground\":true,\"ticks\":\"\",\"zerolinecolor\":\"white\"},\"yaxis\":{\"backgroundcolor\":\"#E5ECF6\",\"gridcolor\":\"white\",\"gridwidth\":2,\"linecolor\":\"white\",\"showbackground\":true,\"ticks\":\"\",\"zerolinecolor\":\"white\"},\"zaxis\":{\"backgroundcolor\":\"#E5ECF6\",\"gridcolor\":\"white\",\"gridwidth\":2,\"linecolor\":\"white\",\"showbackground\":true,\"ticks\":\"\",\"zerolinecolor\":\"white\"}},\"shapedefaults\":{\"line\":{\"color\":\"#2a3f5f\"}},\"ternary\":{\"aaxis\":{\"gridcolor\":\"white\",\"linecolor\":\"white\",\"ticks\":\"\"},\"baxis\":{\"gridcolor\":\"white\",\"linecolor\":\"white\",\"ticks\":\"\"},\"bgcolor\":\"#E5ECF6\",\"caxis\":{\"gridcolor\":\"white\",\"linecolor\":\"white\",\"ticks\":\"\"}},\"title\":{\"x\":0.05},\"xaxis\":{\"automargin\":true,\"gridcolor\":\"white\",\"linecolor\":\"white\",\"ticks\":\"\",\"title\":{\"standoff\":15},\"zerolinecolor\":\"white\",\"zerolinewidth\":2},\"yaxis\":{\"automargin\":true,\"gridcolor\":\"white\",\"linecolor\":\"white\",\"ticks\":\"\",\"title\":{\"standoff\":15},\"zerolinecolor\":\"white\",\"zerolinewidth\":2}}},\"xaxis\":{\"anchor\":\"y\",\"domain\":[0.0,1.0],\"title\":{\"text\":\"Play Type\"}},\"yaxis\":{\"anchor\":\"x\",\"domain\":[0.0,1.0],\"title\":{\"text\":\"Touchdowns\"}},\"legend\":{\"title\":{\"text\":\"Team\"},\"tracegroupgap\":0},\"title\":{\"text\":\"2022-2023 NFC Offensive Touchdowns by Play Type\"}},                        {\"responsive\": true}                    ).then(function(){\n",
              "                            \n",
              "var gd = document.getElementById('11af4b77-6dd5-42cc-bf67-2f6a640c00aa');\n",
              "var x = new MutationObserver(function (mutations, observer) {{\n",
              "        var display = window.getComputedStyle(gd).display;\n",
              "        if (!display || display === 'none') {{\n",
              "            console.log([gd, 'removed!']);\n",
              "            Plotly.purge(gd);\n",
              "            observer.disconnect();\n",
              "        }}\n",
              "}});\n",
              "\n",
              "// Listen for the removal of the full notebook cells\n",
              "var notebookContainer = gd.closest('#notebook-container');\n",
              "if (notebookContainer) {{\n",
              "    x.observe(notebookContainer, {childList: true});\n",
              "}}\n",
              "\n",
              "// Listen for the clearing of the current output cell\n",
              "var outputEl = gd.closest('.output');\n",
              "if (outputEl) {{\n",
              "    x.observe(outputEl, {childList: true});\n",
              "}}\n",
              "\n",
              "                        })                };                            </script>        </div>\n",
              "</body>\n",
              "</html>"
            ]
          },
          "metadata": {}
        }
      ]
    },
    {
      "cell_type": "markdown",
      "source": [
        "Plotting a line chart to show the touchdown dispersion between a run and a pass for AFC teams."
      ],
      "metadata": {
        "id": "wg3u7GDvUeCQ"
      }
    },
    {
      "cell_type": "code",
      "source": [
        "afc_fig = px.line(afc_td_plays, x= 'play_type', y='touchdown', color = 'posteam',\n",
        "              labels = {'play_type': 'Play Type', 'touchdown': 'Touchdowns', 'posteam': 'Team'}, title = '2022-2023 AFC Offensive Touchdowns by Play Type',\n",
        "              color_discrete_sequence= ['#241773','#00338D','#FB4F14','#FF3C00','#002244','#03202F','#002C5F','#006778','#E31837','#007BC7','#000000',\n",
        "                                        '#008E97','#002244','#003F2D','#000000','#002244'])\n",
        "\n",
        "afc_fig.show()"
      ],
      "metadata": {
        "colab": {
          "base_uri": "https://localhost:8080/",
          "height": 542
        },
        "id": "jjZJ9nO9FiwT",
        "outputId": "5d84d591-7155-417d-a7d8-04cb4e880ad2"
      },
      "execution_count": 124,
      "outputs": [
        {
          "output_type": "display_data",
          "data": {
            "text/html": [
              "<html>\n",
              "<head><meta charset=\"utf-8\" /></head>\n",
              "<body>\n",
              "    <div>            <script src=\"https://cdnjs.cloudflare.com/ajax/libs/mathjax/2.7.5/MathJax.js?config=TeX-AMS-MML_SVG\"></script><script type=\"text/javascript\">if (window.MathJax) {MathJax.Hub.Config({SVG: {font: \"STIX-Web\"}});}</script>                <script type=\"text/javascript\">window.PlotlyConfig = {MathJaxConfig: 'local'};</script>\n",
              "        <script src=\"https://cdn.plot.ly/plotly-2.8.3.min.js\"></script>                <div id=\"bdccd883-aa6d-4408-b9db-3fd2eb5949c8\" class=\"plotly-graph-div\" style=\"height:525px; width:100%;\"></div>            <script type=\"text/javascript\">                                    window.PLOTLYENV=window.PLOTLYENV || {};                                    if (document.getElementById(\"bdccd883-aa6d-4408-b9db-3fd2eb5949c8\")) {                    Plotly.newPlot(                        \"bdccd883-aa6d-4408-b9db-3fd2eb5949c8\",                        [{\"hovertemplate\":\"Team=BAL<br>Play Type=%{x}<br>Touchdowns=%{y}<extra></extra>\",\"legendgroup\":\"BAL\",\"line\":{\"color\":\"#241773\",\"dash\":\"solid\"},\"marker\":{\"symbol\":\"circle\"},\"mode\":\"lines\",\"name\":\"BAL\",\"orientation\":\"v\",\"showlegend\":true,\"x\":[\"pass\",\"run\"],\"xaxis\":\"x\",\"y\":[22.0,15.0],\"yaxis\":\"y\",\"type\":\"scatter\"},{\"hovertemplate\":\"Team=BUF<br>Play Type=%{x}<br>Touchdowns=%{y}<extra></extra>\",\"legendgroup\":\"BUF\",\"line\":{\"color\":\"#00338D\",\"dash\":\"solid\"},\"marker\":{\"symbol\":\"circle\"},\"mode\":\"lines\",\"name\":\"BUF\",\"orientation\":\"v\",\"showlegend\":true,\"x\":[\"pass\",\"run\"],\"xaxis\":\"x\",\"y\":[39.0,18.0],\"yaxis\":\"y\",\"type\":\"scatter\"},{\"hovertemplate\":\"Team=CIN<br>Play Type=%{x}<br>Touchdowns=%{y}<extra></extra>\",\"legendgroup\":\"CIN\",\"line\":{\"color\":\"#FB4F14\",\"dash\":\"solid\"},\"marker\":{\"symbol\":\"circle\"},\"mode\":\"lines\",\"name\":\"CIN\",\"orientation\":\"v\",\"showlegend\":true,\"x\":[\"pass\",\"run\"],\"xaxis\":\"x\",\"y\":[41.0,17.0],\"yaxis\":\"y\",\"type\":\"scatter\"},{\"hovertemplate\":\"Team=CLE<br>Play Type=%{x}<br>Touchdowns=%{y}<extra></extra>\",\"legendgroup\":\"CLE\",\"line\":{\"color\":\"#FF3C00\",\"dash\":\"solid\"},\"marker\":{\"symbol\":\"circle\"},\"mode\":\"lines\",\"name\":\"CLE\",\"orientation\":\"v\",\"showlegend\":true,\"x\":[\"pass\",\"run\"],\"xaxis\":\"x\",\"y\":[19.0,19.0],\"yaxis\":\"y\",\"type\":\"scatter\"},{\"hovertemplate\":\"Team=DEN<br>Play Type=%{x}<br>Touchdowns=%{y}<extra></extra>\",\"legendgroup\":\"DEN\",\"line\":{\"color\":\"#002244\",\"dash\":\"solid\"},\"marker\":{\"symbol\":\"circle\"},\"mode\":\"lines\",\"name\":\"DEN\",\"orientation\":\"v\",\"showlegend\":true,\"x\":[\"pass\",\"run\"],\"xaxis\":\"x\",\"y\":[20.0,12.0],\"yaxis\":\"y\",\"type\":\"scatter\"},{\"hovertemplate\":\"Team=HOU<br>Play Type=%{x}<br>Touchdowns=%{y}<extra></extra>\",\"legendgroup\":\"HOU\",\"line\":{\"color\":\"#03202F\",\"dash\":\"solid\"},\"marker\":{\"symbol\":\"circle\"},\"mode\":\"lines\",\"name\":\"HOU\",\"orientation\":\"v\",\"showlegend\":true,\"x\":[\"pass\",\"run\"],\"xaxis\":\"x\",\"y\":[26.0,9.0],\"yaxis\":\"y\",\"type\":\"scatter\"},{\"hovertemplate\":\"Team=IND<br>Play Type=%{x}<br>Touchdowns=%{y}<extra></extra>\",\"legendgroup\":\"IND\",\"line\":{\"color\":\"#002C5F\",\"dash\":\"solid\"},\"marker\":{\"symbol\":\"circle\"},\"mode\":\"lines\",\"name\":\"IND\",\"orientation\":\"v\",\"showlegend\":true,\"x\":[\"pass\",\"run\"],\"xaxis\":\"x\",\"y\":[22.0,8.0],\"yaxis\":\"y\",\"type\":\"scatter\"},{\"hovertemplate\":\"Team=JAX<br>Play Type=%{x}<br>Touchdowns=%{y}<extra></extra>\",\"legendgroup\":\"JAX\",\"line\":{\"color\":\"#006778\",\"dash\":\"solid\"},\"marker\":{\"symbol\":\"circle\"},\"mode\":\"lines\",\"name\":\"JAX\",\"orientation\":\"v\",\"showlegend\":true,\"x\":[\"pass\",\"run\"],\"xaxis\":\"x\",\"y\":[30.0,17.0],\"yaxis\":\"y\",\"type\":\"scatter\"},{\"hovertemplate\":\"Team=KC<br>Play Type=%{x}<br>Touchdowns=%{y}<extra></extra>\",\"legendgroup\":\"KC\",\"line\":{\"color\":\"#E31837\",\"dash\":\"solid\"},\"marker\":{\"symbol\":\"circle\"},\"mode\":\"lines\",\"name\":\"KC\",\"orientation\":\"v\",\"showlegend\":true,\"x\":[\"pass\",\"run\"],\"xaxis\":\"x\",\"y\":[49.0,19.0],\"yaxis\":\"y\",\"type\":\"scatter\"},{\"hovertemplate\":\"Team=LAC<br>Play Type=%{x}<br>Touchdowns=%{y}<extra></extra>\",\"legendgroup\":\"LAC\",\"line\":{\"color\":\"#007BC7\",\"dash\":\"solid\"},\"marker\":{\"symbol\":\"circle\"},\"mode\":\"lines\",\"name\":\"LAC\",\"orientation\":\"v\",\"showlegend\":true,\"x\":[\"pass\",\"run\"],\"xaxis\":\"x\",\"y\":[28.0,17.0],\"yaxis\":\"y\",\"type\":\"scatter\"},{\"hovertemplate\":\"Team=LV<br>Play Type=%{x}<br>Touchdowns=%{y}<extra></extra>\",\"legendgroup\":\"LV\",\"line\":{\"color\":\"#000000\",\"dash\":\"solid\"},\"marker\":{\"symbol\":\"circle\"},\"mode\":\"lines\",\"name\":\"LV\",\"orientation\":\"v\",\"showlegend\":true,\"x\":[\"pass\",\"run\"],\"xaxis\":\"x\",\"y\":[31.0,12.0],\"yaxis\":\"y\",\"type\":\"scatter\"},{\"hovertemplate\":\"Team=MIA<br>Play Type=%{x}<br>Touchdowns=%{y}<extra></extra>\",\"legendgroup\":\"MIA\",\"line\":{\"color\":\"#008E97\",\"dash\":\"solid\"},\"marker\":{\"symbol\":\"circle\"},\"mode\":\"lines\",\"name\":\"MIA\",\"orientation\":\"v\",\"showlegend\":true,\"x\":[\"pass\",\"run\"],\"xaxis\":\"x\",\"y\":[33.0,14.0],\"yaxis\":\"y\",\"type\":\"scatter\"},{\"hovertemplate\":\"Team=NE<br>Play Type=%{x}<br>Touchdowns=%{y}<extra></extra>\",\"legendgroup\":\"NE\",\"line\":{\"color\":\"#002244\",\"dash\":\"solid\"},\"marker\":{\"symbol\":\"circle\"},\"mode\":\"lines\",\"name\":\"NE\",\"orientation\":\"v\",\"showlegend\":true,\"x\":[\"pass\",\"run\"],\"xaxis\":\"x\",\"y\":[20.0,13.0],\"yaxis\":\"y\",\"type\":\"scatter\"},{\"hovertemplate\":\"Team=NYJ<br>Play Type=%{x}<br>Touchdowns=%{y}<extra></extra>\",\"legendgroup\":\"NYJ\",\"line\":{\"color\":\"#003F2D\",\"dash\":\"solid\"},\"marker\":{\"symbol\":\"circle\"},\"mode\":\"lines\",\"name\":\"NYJ\",\"orientation\":\"v\",\"showlegend\":true,\"x\":[\"pass\",\"run\"],\"xaxis\":\"x\",\"y\":[15.0,13.0],\"yaxis\":\"y\",\"type\":\"scatter\"},{\"hovertemplate\":\"Team=PIT<br>Play Type=%{x}<br>Touchdowns=%{y}<extra></extra>\",\"legendgroup\":\"PIT\",\"line\":{\"color\":\"#000000\",\"dash\":\"solid\"},\"marker\":{\"symbol\":\"circle\"},\"mode\":\"lines\",\"name\":\"PIT\",\"orientation\":\"v\",\"showlegend\":true,\"x\":[\"pass\",\"run\"],\"xaxis\":\"x\",\"y\":[13.0,16.0],\"yaxis\":\"y\",\"type\":\"scatter\"},{\"hovertemplate\":\"Team=TEN<br>Play Type=%{x}<br>Touchdowns=%{y}<extra></extra>\",\"legendgroup\":\"TEN\",\"line\":{\"color\":\"#002244\",\"dash\":\"solid\"},\"marker\":{\"symbol\":\"circle\"},\"mode\":\"lines\",\"name\":\"TEN\",\"orientation\":\"v\",\"showlegend\":true,\"x\":[\"pass\",\"run\"],\"xaxis\":\"x\",\"y\":[19.0,16.0],\"yaxis\":\"y\",\"type\":\"scatter\"}],                        {\"template\":{\"data\":{\"bar\":[{\"error_x\":{\"color\":\"#2a3f5f\"},\"error_y\":{\"color\":\"#2a3f5f\"},\"marker\":{\"line\":{\"color\":\"#E5ECF6\",\"width\":0.5},\"pattern\":{\"fillmode\":\"overlay\",\"size\":10,\"solidity\":0.2}},\"type\":\"bar\"}],\"barpolar\":[{\"marker\":{\"line\":{\"color\":\"#E5ECF6\",\"width\":0.5},\"pattern\":{\"fillmode\":\"overlay\",\"size\":10,\"solidity\":0.2}},\"type\":\"barpolar\"}],\"carpet\":[{\"aaxis\":{\"endlinecolor\":\"#2a3f5f\",\"gridcolor\":\"white\",\"linecolor\":\"white\",\"minorgridcolor\":\"white\",\"startlinecolor\":\"#2a3f5f\"},\"baxis\":{\"endlinecolor\":\"#2a3f5f\",\"gridcolor\":\"white\",\"linecolor\":\"white\",\"minorgridcolor\":\"white\",\"startlinecolor\":\"#2a3f5f\"},\"type\":\"carpet\"}],\"choropleth\":[{\"colorbar\":{\"outlinewidth\":0,\"ticks\":\"\"},\"type\":\"choropleth\"}],\"contour\":[{\"colorbar\":{\"outlinewidth\":0,\"ticks\":\"\"},\"colorscale\":[[0.0,\"#0d0887\"],[0.1111111111111111,\"#46039f\"],[0.2222222222222222,\"#7201a8\"],[0.3333333333333333,\"#9c179e\"],[0.4444444444444444,\"#bd3786\"],[0.5555555555555556,\"#d8576b\"],[0.6666666666666666,\"#ed7953\"],[0.7777777777777778,\"#fb9f3a\"],[0.8888888888888888,\"#fdca26\"],[1.0,\"#f0f921\"]],\"type\":\"contour\"}],\"contourcarpet\":[{\"colorbar\":{\"outlinewidth\":0,\"ticks\":\"\"},\"type\":\"contourcarpet\"}],\"heatmap\":[{\"colorbar\":{\"outlinewidth\":0,\"ticks\":\"\"},\"colorscale\":[[0.0,\"#0d0887\"],[0.1111111111111111,\"#46039f\"],[0.2222222222222222,\"#7201a8\"],[0.3333333333333333,\"#9c179e\"],[0.4444444444444444,\"#bd3786\"],[0.5555555555555556,\"#d8576b\"],[0.6666666666666666,\"#ed7953\"],[0.7777777777777778,\"#fb9f3a\"],[0.8888888888888888,\"#fdca26\"],[1.0,\"#f0f921\"]],\"type\":\"heatmap\"}],\"heatmapgl\":[{\"colorbar\":{\"outlinewidth\":0,\"ticks\":\"\"},\"colorscale\":[[0.0,\"#0d0887\"],[0.1111111111111111,\"#46039f\"],[0.2222222222222222,\"#7201a8\"],[0.3333333333333333,\"#9c179e\"],[0.4444444444444444,\"#bd3786\"],[0.5555555555555556,\"#d8576b\"],[0.6666666666666666,\"#ed7953\"],[0.7777777777777778,\"#fb9f3a\"],[0.8888888888888888,\"#fdca26\"],[1.0,\"#f0f921\"]],\"type\":\"heatmapgl\"}],\"histogram\":[{\"marker\":{\"pattern\":{\"fillmode\":\"overlay\",\"size\":10,\"solidity\":0.2}},\"type\":\"histogram\"}],\"histogram2d\":[{\"colorbar\":{\"outlinewidth\":0,\"ticks\":\"\"},\"colorscale\":[[0.0,\"#0d0887\"],[0.1111111111111111,\"#46039f\"],[0.2222222222222222,\"#7201a8\"],[0.3333333333333333,\"#9c179e\"],[0.4444444444444444,\"#bd3786\"],[0.5555555555555556,\"#d8576b\"],[0.6666666666666666,\"#ed7953\"],[0.7777777777777778,\"#fb9f3a\"],[0.8888888888888888,\"#fdca26\"],[1.0,\"#f0f921\"]],\"type\":\"histogram2d\"}],\"histogram2dcontour\":[{\"colorbar\":{\"outlinewidth\":0,\"ticks\":\"\"},\"colorscale\":[[0.0,\"#0d0887\"],[0.1111111111111111,\"#46039f\"],[0.2222222222222222,\"#7201a8\"],[0.3333333333333333,\"#9c179e\"],[0.4444444444444444,\"#bd3786\"],[0.5555555555555556,\"#d8576b\"],[0.6666666666666666,\"#ed7953\"],[0.7777777777777778,\"#fb9f3a\"],[0.8888888888888888,\"#fdca26\"],[1.0,\"#f0f921\"]],\"type\":\"histogram2dcontour\"}],\"mesh3d\":[{\"colorbar\":{\"outlinewidth\":0,\"ticks\":\"\"},\"type\":\"mesh3d\"}],\"parcoords\":[{\"line\":{\"colorbar\":{\"outlinewidth\":0,\"ticks\":\"\"}},\"type\":\"parcoords\"}],\"pie\":[{\"automargin\":true,\"type\":\"pie\"}],\"scatter\":[{\"marker\":{\"colorbar\":{\"outlinewidth\":0,\"ticks\":\"\"}},\"type\":\"scatter\"}],\"scatter3d\":[{\"line\":{\"colorbar\":{\"outlinewidth\":0,\"ticks\":\"\"}},\"marker\":{\"colorbar\":{\"outlinewidth\":0,\"ticks\":\"\"}},\"type\":\"scatter3d\"}],\"scattercarpet\":[{\"marker\":{\"colorbar\":{\"outlinewidth\":0,\"ticks\":\"\"}},\"type\":\"scattercarpet\"}],\"scattergeo\":[{\"marker\":{\"colorbar\":{\"outlinewidth\":0,\"ticks\":\"\"}},\"type\":\"scattergeo\"}],\"scattergl\":[{\"marker\":{\"colorbar\":{\"outlinewidth\":0,\"ticks\":\"\"}},\"type\":\"scattergl\"}],\"scattermapbox\":[{\"marker\":{\"colorbar\":{\"outlinewidth\":0,\"ticks\":\"\"}},\"type\":\"scattermapbox\"}],\"scatterpolar\":[{\"marker\":{\"colorbar\":{\"outlinewidth\":0,\"ticks\":\"\"}},\"type\":\"scatterpolar\"}],\"scatterpolargl\":[{\"marker\":{\"colorbar\":{\"outlinewidth\":0,\"ticks\":\"\"}},\"type\":\"scatterpolargl\"}],\"scatterternary\":[{\"marker\":{\"colorbar\":{\"outlinewidth\":0,\"ticks\":\"\"}},\"type\":\"scatterternary\"}],\"surface\":[{\"colorbar\":{\"outlinewidth\":0,\"ticks\":\"\"},\"colorscale\":[[0.0,\"#0d0887\"],[0.1111111111111111,\"#46039f\"],[0.2222222222222222,\"#7201a8\"],[0.3333333333333333,\"#9c179e\"],[0.4444444444444444,\"#bd3786\"],[0.5555555555555556,\"#d8576b\"],[0.6666666666666666,\"#ed7953\"],[0.7777777777777778,\"#fb9f3a\"],[0.8888888888888888,\"#fdca26\"],[1.0,\"#f0f921\"]],\"type\":\"surface\"}],\"table\":[{\"cells\":{\"fill\":{\"color\":\"#EBF0F8\"},\"line\":{\"color\":\"white\"}},\"header\":{\"fill\":{\"color\":\"#C8D4E3\"},\"line\":{\"color\":\"white\"}},\"type\":\"table\"}]},\"layout\":{\"annotationdefaults\":{\"arrowcolor\":\"#2a3f5f\",\"arrowhead\":0,\"arrowwidth\":1},\"autotypenumbers\":\"strict\",\"coloraxis\":{\"colorbar\":{\"outlinewidth\":0,\"ticks\":\"\"}},\"colorscale\":{\"diverging\":[[0,\"#8e0152\"],[0.1,\"#c51b7d\"],[0.2,\"#de77ae\"],[0.3,\"#f1b6da\"],[0.4,\"#fde0ef\"],[0.5,\"#f7f7f7\"],[0.6,\"#e6f5d0\"],[0.7,\"#b8e186\"],[0.8,\"#7fbc41\"],[0.9,\"#4d9221\"],[1,\"#276419\"]],\"sequential\":[[0.0,\"#0d0887\"],[0.1111111111111111,\"#46039f\"],[0.2222222222222222,\"#7201a8\"],[0.3333333333333333,\"#9c179e\"],[0.4444444444444444,\"#bd3786\"],[0.5555555555555556,\"#d8576b\"],[0.6666666666666666,\"#ed7953\"],[0.7777777777777778,\"#fb9f3a\"],[0.8888888888888888,\"#fdca26\"],[1.0,\"#f0f921\"]],\"sequentialminus\":[[0.0,\"#0d0887\"],[0.1111111111111111,\"#46039f\"],[0.2222222222222222,\"#7201a8\"],[0.3333333333333333,\"#9c179e\"],[0.4444444444444444,\"#bd3786\"],[0.5555555555555556,\"#d8576b\"],[0.6666666666666666,\"#ed7953\"],[0.7777777777777778,\"#fb9f3a\"],[0.8888888888888888,\"#fdca26\"],[1.0,\"#f0f921\"]]},\"colorway\":[\"#636efa\",\"#EF553B\",\"#00cc96\",\"#ab63fa\",\"#FFA15A\",\"#19d3f3\",\"#FF6692\",\"#B6E880\",\"#FF97FF\",\"#FECB52\"],\"font\":{\"color\":\"#2a3f5f\"},\"geo\":{\"bgcolor\":\"white\",\"lakecolor\":\"white\",\"landcolor\":\"#E5ECF6\",\"showlakes\":true,\"showland\":true,\"subunitcolor\":\"white\"},\"hoverlabel\":{\"align\":\"left\"},\"hovermode\":\"closest\",\"mapbox\":{\"style\":\"light\"},\"paper_bgcolor\":\"white\",\"plot_bgcolor\":\"#E5ECF6\",\"polar\":{\"angularaxis\":{\"gridcolor\":\"white\",\"linecolor\":\"white\",\"ticks\":\"\"},\"bgcolor\":\"#E5ECF6\",\"radialaxis\":{\"gridcolor\":\"white\",\"linecolor\":\"white\",\"ticks\":\"\"}},\"scene\":{\"xaxis\":{\"backgroundcolor\":\"#E5ECF6\",\"gridcolor\":\"white\",\"gridwidth\":2,\"linecolor\":\"white\",\"showbackground\":true,\"ticks\":\"\",\"zerolinecolor\":\"white\"},\"yaxis\":{\"backgroundcolor\":\"#E5ECF6\",\"gridcolor\":\"white\",\"gridwidth\":2,\"linecolor\":\"white\",\"showbackground\":true,\"ticks\":\"\",\"zerolinecolor\":\"white\"},\"zaxis\":{\"backgroundcolor\":\"#E5ECF6\",\"gridcolor\":\"white\",\"gridwidth\":2,\"linecolor\":\"white\",\"showbackground\":true,\"ticks\":\"\",\"zerolinecolor\":\"white\"}},\"shapedefaults\":{\"line\":{\"color\":\"#2a3f5f\"}},\"ternary\":{\"aaxis\":{\"gridcolor\":\"white\",\"linecolor\":\"white\",\"ticks\":\"\"},\"baxis\":{\"gridcolor\":\"white\",\"linecolor\":\"white\",\"ticks\":\"\"},\"bgcolor\":\"#E5ECF6\",\"caxis\":{\"gridcolor\":\"white\",\"linecolor\":\"white\",\"ticks\":\"\"}},\"title\":{\"x\":0.05},\"xaxis\":{\"automargin\":true,\"gridcolor\":\"white\",\"linecolor\":\"white\",\"ticks\":\"\",\"title\":{\"standoff\":15},\"zerolinecolor\":\"white\",\"zerolinewidth\":2},\"yaxis\":{\"automargin\":true,\"gridcolor\":\"white\",\"linecolor\":\"white\",\"ticks\":\"\",\"title\":{\"standoff\":15},\"zerolinecolor\":\"white\",\"zerolinewidth\":2}}},\"xaxis\":{\"anchor\":\"y\",\"domain\":[0.0,1.0],\"title\":{\"text\":\"Play Type\"}},\"yaxis\":{\"anchor\":\"x\",\"domain\":[0.0,1.0],\"title\":{\"text\":\"Touchdowns\"}},\"legend\":{\"title\":{\"text\":\"Team\"},\"tracegroupgap\":0},\"title\":{\"text\":\"2022-2023 AFC Offensive Touchdowns by Play Type\"}},                        {\"responsive\": true}                    ).then(function(){\n",
              "                            \n",
              "var gd = document.getElementById('bdccd883-aa6d-4408-b9db-3fd2eb5949c8');\n",
              "var x = new MutationObserver(function (mutations, observer) {{\n",
              "        var display = window.getComputedStyle(gd).display;\n",
              "        if (!display || display === 'none') {{\n",
              "            console.log([gd, 'removed!']);\n",
              "            Plotly.purge(gd);\n",
              "            observer.disconnect();\n",
              "        }}\n",
              "}});\n",
              "\n",
              "// Listen for the removal of the full notebook cells\n",
              "var notebookContainer = gd.closest('#notebook-container');\n",
              "if (notebookContainer) {{\n",
              "    x.observe(notebookContainer, {childList: true});\n",
              "}}\n",
              "\n",
              "// Listen for the clearing of the current output cell\n",
              "var outputEl = gd.closest('.output');\n",
              "if (outputEl) {{\n",
              "    x.observe(outputEl, {childList: true});\n",
              "}}\n",
              "\n",
              "                        })                };                            </script>        </div>\n",
              "</body>\n",
              "</html>"
            ]
          },
          "metadata": {}
        }
      ]
    }
  ]
}